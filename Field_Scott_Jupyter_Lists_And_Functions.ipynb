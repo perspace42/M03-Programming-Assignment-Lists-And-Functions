{
 "cells": [
  {
   "cell_type": "code",
   "execution_count": 2,
   "metadata": {},
   "outputs": [
    {
     "data": {
      "text/plain": [
       "'\\nAuthor: Scott Field\\nVersion: 1.00\\nDate: 4/03/2023\\nProgram Name: Jupyter_Lists_And_Functions\\nProgram Purpose: Show understanding of functions and lists.\\n'"
      ]
     },
     "execution_count": 2,
     "metadata": {},
     "output_type": "execute_result"
    }
   ],
   "source": [
    "'''\n",
    "Author: Scott Field\n",
    "Version: 1.00\n",
    "Date: 4/03/2023\n",
    "Program Name: Jupyter_Lists_And_Functions\n",
    "Program Purpose: Show understanding of functions and lists.\n",
    "'''"
   ]
  },
  {
   "cell_type": "code",
   "execution_count": 9,
   "metadata": {},
   "outputs": [],
   "source": [
    "#Program 7.4 \n",
    "#Make a list called things with these three strings as elements: \"mozzarella\", \"cinderella\", \"salmonella\".\n",
    "things = [\"mozzarella\",\"cinderella\",\"salmonella\"]"
   ]
  },
  {
   "cell_type": "code",
   "execution_count": 20,
   "metadata": {},
   "outputs": [
    {
     "name": "stdout",
     "output_type": "stream",
     "text": [
      "['mozzarella', 'Cinderella', 'salmonella']\n"
     ]
    }
   ],
   "source": [
    "#Program 7.5\n",
    "#Capitalize the element in things that refers to a person and then print the list. Did it change the element in the list?\n",
    "things[1] = things[1].capitalize()\n",
    "print(things) \n",
    "#The element is changed in the list when things[1].capitalize is assigned to things[1]\n",
    "#The element is not changed when things[1].capitalize is called but not assigned to things[1]"
   ]
  },
  {
   "cell_type": "code",
   "execution_count": 25,
   "metadata": {},
   "outputs": [
    {
     "name": "stdout",
     "output_type": "stream",
     "text": [
      "['MOZZARELLA', 'Cinderella', 'salmonella']\n"
     ]
    }
   ],
   "source": [
    "#Program 7.6\n",
    "#Make the cheesy element of things all uppercase and then print the list.\n",
    "things[0] = things[0].upper()\n",
    "print(things)"
   ]
  },
  {
   "cell_type": "code",
   "execution_count": 29,
   "metadata": {},
   "outputs": [
    {
     "name": "stdout",
     "output_type": "stream",
     "text": [
      "['MOZZARELLA', 'Cinderella']\n"
     ]
    }
   ],
   "source": [
    "#Program 7.7\n",
    "#Delete the disease element from things, collect your Nobel Prize, and print the list.\n",
    "things.remove(\"salmonella\")\n",
    "print(things)"
   ]
  },
  {
   "cell_type": "code",
   "execution_count": 32,
   "metadata": {},
   "outputs": [
    {
     "name": "stdout",
     "output_type": "stream",
     "text": [
      "['Harry', 'Ron', 'Hermione']\n"
     ]
    }
   ],
   "source": [
    "#Program 9.1\n",
    "#Define a function called good() that returns the following list: ['Harry', 'Ron', 'Hermione'].\n",
    "def good():\n",
    "    return (['Harry','Ron','Hermione'])\n",
    "print(good()) #Print function was not required by instructions but is used to check the function."
   ]
  },
  {
   "cell_type": "code",
   "execution_count": 39,
   "metadata": {},
   "outputs": [
    {
     "name": "stdout",
     "output_type": "stream",
     "text": [
      "5\n"
     ]
    }
   ],
   "source": [
    "#Program 9.2\n",
    "#Define a generator function called get_odds() that returns the odd numbers from range(10). Use a for loop to find and print the third value returned.\n",
    "\n",
    "#Define generator function\n",
    "def get_odds(lower = 0, upper = 10, step = 1):\n",
    "    #Initialize return list\n",
    "    oddNumbers = []\n",
    "    #Iterate across numbers provided as parameters\n",
    "    for number in range(lower,upper,step):\n",
    "        #If number isn't even then add the number to the return list\n",
    "        if (number % 2 != 0):\n",
    "            oddNumbers.append(number)\n",
    "    \n",
    "    #Return Generator Object\n",
    "    yield oddNumbers\n",
    "\n",
    "#Assign function to variable\n",
    "oddNumbers = get_odds(0,10,1)\n",
    "\n",
    "#Iterate across generator object to print the third value returned (which is located at index 2)\n",
    "for num in oddNumbers:\n",
    "    print(num[2])\n",
    "\n",
    "\n"
   ]
  }
 ],
 "metadata": {
  "kernelspec": {
   "display_name": "Python 3",
   "language": "python",
   "name": "python3"
  },
  "language_info": {
   "codemirror_mode": {
    "name": "ipython",
    "version": 3
   },
   "file_extension": ".py",
   "mimetype": "text/x-python",
   "name": "python",
   "nbconvert_exporter": "python",
   "pygments_lexer": "ipython3",
   "version": "3.10.7"
  },
  "orig_nbformat": 4
 },
 "nbformat": 4,
 "nbformat_minor": 2
}
